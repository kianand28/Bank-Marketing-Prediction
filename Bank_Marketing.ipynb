{
  "cells": [
    {
      "cell_type": "markdown",
      "source": [
        "Kirti Anand: GH1023762\n",
        "\n",
        "This will be my final Assessment which will be submitted on canvas.\n",
        "\n",
        "The Data I have used is Bank Marketing Prediction to predict Term Deposit Suscriptions based on few features labels.\n",
        "\n",
        "Dataset used from Kaggle (June 2014) Bank Marketing prediction\n",
        "(Accessed: 20-03-2023).\n",
        "\n",
        "I have imported the below libraries :\n",
        "\n",
        "1. Pandas for Data.\n",
        "2. sklearn.preprocessing for Encoding and Building a standardization model.\n",
        "3. Model selection for grid search.\n",
        "4. sklearn.metrics for support vector machine.\n",
        "5. sklearn.decomposition for reducing the dimentionality.\n",
        "6. imblearn.over_sampling for SMOTE"
      ],
      "metadata": {
        "id": "erLryjmk4V8Q"
      },
      "id": "erLryjmk4V8Q"
    },
    {
      "cell_type": "markdown",
      "source": [
        "**Business Problem-**\n",
        "\n",
        "Predicting subscription of a term deposit by the client.\n",
        "\n",
        "\n",
        "*   Data Visualization\n",
        "*   Data preprosessing and feature engineering\n",
        "*   Data Exploration\n",
        "*   Modelling\n",
        "*   Data Normalization\n",
        "*   Final Model Evaluation\n",
        "*   Conclusion\n",
        "\n",
        "\n",
        "\n",
        "\n",
        "\n",
        "\n",
        "\n",
        "\n",
        "\n"
      ],
      "metadata": {
        "id": "jFUzmg8rSNOD"
      },
      "id": "jFUzmg8rSNOD"
    },
    {
      "cell_type": "markdown",
      "source": [
        "**Importing** **Libraries**"
      ],
      "metadata": {
        "id": "KT1WCBGvPlEy"
      },
      "id": "KT1WCBGvPlEy"
    },
    {
      "cell_type": "code",
      "execution_count": 3,
      "id": "cb192cf8",
      "metadata": {
        "id": "cb192cf8"
      },
      "outputs": [],
      "source": [
        "import pandas as pd\n",
        "import sklearn.metrics\n",
        "import sklearn.preprocessing\n",
        "import sklearn.svm\n",
        "import imblearn.over_sampling\n",
        "import sklearn.preprocessing\n",
        "import sklearn.decomposition\n",
        "import numpy as np"
      ]
    },
    {
      "cell_type": "markdown",
      "source": [
        "**Loading Data:**\n",
        "\n",
        "**Introduction -**\n",
        "\n",
        "The Data bank.csv has in total of 11163 rows and 17 coloums.\n",
        "\n",
        "Input Variables used:\n",
        "\n",
        "1. age \n",
        "2. job \n",
        "3. marital\n",
        "4. education\n",
        "5. default\n",
        "6. balance\n",
        "7. housing\n",
        "8. loan\n",
        "9. contact\n",
        "\n",
        "Target Label:\n",
        "\n",
        "Deposit\n",
        "\n",
        "\n",
        "\n",
        "I have read the data and added it to a variable df(data frame).\n",
        "\n",
        "Using sample data 5000 for the prediction.\n",
        "\n",
        "Used data head to check the data is properly loaded.\n"
      ],
      "metadata": {
        "id": "BXKyqGBS3BtR"
      },
      "id": "BXKyqGBS3BtR"
    },
    {
      "cell_type": "code",
      "execution_count": 4,
      "id": "aa28b5d3",
      "metadata": {
        "colab": {
          "base_uri": "https://localhost:8080/",
          "height": 285
        },
        "id": "aa28b5d3",
        "outputId": "daacf433-b508-4881-a4bc-1bed719dd326"
      },
      "outputs": [
        {
          "output_type": "execute_result",
          "data": {
            "text/plain": [
              "       age            job  marital  education default  balance housing loan  \\\n",
              "8081    25       services   single  secondary      no      895     yes   no   \n",
              "5016    54  self-employed   single   tertiary      no      384      no  yes   \n",
              "2311    40  self-employed   single   tertiary      no    10346      no   no   \n",
              "10528   60    blue-collar  married    primary      no     4903      no  yes   \n",
              "889     32         admin.  married  secondary      no     8749     yes  yes   \n",
              "\n",
              "        contact  day month  duration  campaign  pdays  previous poutcome  \\\n",
              "8081    unknown    3   jun       167         1     -1         0  unknown   \n",
              "5016   cellular   27   may       200         1     -1         0  unknown   \n",
              "2311   cellular   15   jun       491         2    207         1    other   \n",
              "10528   unknown    9   jun       290         1     -1         0  unknown   \n",
              "889     unknown   21   oct       294         1     -1         0  unknown   \n",
              "\n",
              "      deposit  \n",
              "8081       no  \n",
              "5016      yes  \n",
              "2311      yes  \n",
              "10528      no  \n",
              "889       yes  "
            ],
            "text/html": [
              "\n",
              "  <div id=\"df-dd10382c-d47f-4913-8afd-a38ffa42e57b\">\n",
              "    <div class=\"colab-df-container\">\n",
              "      <div>\n",
              "<style scoped>\n",
              "    .dataframe tbody tr th:only-of-type {\n",
              "        vertical-align: middle;\n",
              "    }\n",
              "\n",
              "    .dataframe tbody tr th {\n",
              "        vertical-align: top;\n",
              "    }\n",
              "\n",
              "    .dataframe thead th {\n",
              "        text-align: right;\n",
              "    }\n",
              "</style>\n",
              "<table border=\"1\" class=\"dataframe\">\n",
              "  <thead>\n",
              "    <tr style=\"text-align: right;\">\n",
              "      <th></th>\n",
              "      <th>age</th>\n",
              "      <th>job</th>\n",
              "      <th>marital</th>\n",
              "      <th>education</th>\n",
              "      <th>default</th>\n",
              "      <th>balance</th>\n",
              "      <th>housing</th>\n",
              "      <th>loan</th>\n",
              "      <th>contact</th>\n",
              "      <th>day</th>\n",
              "      <th>month</th>\n",
              "      <th>duration</th>\n",
              "      <th>campaign</th>\n",
              "      <th>pdays</th>\n",
              "      <th>previous</th>\n",
              "      <th>poutcome</th>\n",
              "      <th>deposit</th>\n",
              "    </tr>\n",
              "  </thead>\n",
              "  <tbody>\n",
              "    <tr>\n",
              "      <th>8081</th>\n",
              "      <td>25</td>\n",
              "      <td>services</td>\n",
              "      <td>single</td>\n",
              "      <td>secondary</td>\n",
              "      <td>no</td>\n",
              "      <td>895</td>\n",
              "      <td>yes</td>\n",
              "      <td>no</td>\n",
              "      <td>unknown</td>\n",
              "      <td>3</td>\n",
              "      <td>jun</td>\n",
              "      <td>167</td>\n",
              "      <td>1</td>\n",
              "      <td>-1</td>\n",
              "      <td>0</td>\n",
              "      <td>unknown</td>\n",
              "      <td>no</td>\n",
              "    </tr>\n",
              "    <tr>\n",
              "      <th>5016</th>\n",
              "      <td>54</td>\n",
              "      <td>self-employed</td>\n",
              "      <td>single</td>\n",
              "      <td>tertiary</td>\n",
              "      <td>no</td>\n",
              "      <td>384</td>\n",
              "      <td>no</td>\n",
              "      <td>yes</td>\n",
              "      <td>cellular</td>\n",
              "      <td>27</td>\n",
              "      <td>may</td>\n",
              "      <td>200</td>\n",
              "      <td>1</td>\n",
              "      <td>-1</td>\n",
              "      <td>0</td>\n",
              "      <td>unknown</td>\n",
              "      <td>yes</td>\n",
              "    </tr>\n",
              "    <tr>\n",
              "      <th>2311</th>\n",
              "      <td>40</td>\n",
              "      <td>self-employed</td>\n",
              "      <td>single</td>\n",
              "      <td>tertiary</td>\n",
              "      <td>no</td>\n",
              "      <td>10346</td>\n",
              "      <td>no</td>\n",
              "      <td>no</td>\n",
              "      <td>cellular</td>\n",
              "      <td>15</td>\n",
              "      <td>jun</td>\n",
              "      <td>491</td>\n",
              "      <td>2</td>\n",
              "      <td>207</td>\n",
              "      <td>1</td>\n",
              "      <td>other</td>\n",
              "      <td>yes</td>\n",
              "    </tr>\n",
              "    <tr>\n",
              "      <th>10528</th>\n",
              "      <td>60</td>\n",
              "      <td>blue-collar</td>\n",
              "      <td>married</td>\n",
              "      <td>primary</td>\n",
              "      <td>no</td>\n",
              "      <td>4903</td>\n",
              "      <td>no</td>\n",
              "      <td>yes</td>\n",
              "      <td>unknown</td>\n",
              "      <td>9</td>\n",
              "      <td>jun</td>\n",
              "      <td>290</td>\n",
              "      <td>1</td>\n",
              "      <td>-1</td>\n",
              "      <td>0</td>\n",
              "      <td>unknown</td>\n",
              "      <td>no</td>\n",
              "    </tr>\n",
              "    <tr>\n",
              "      <th>889</th>\n",
              "      <td>32</td>\n",
              "      <td>admin.</td>\n",
              "      <td>married</td>\n",
              "      <td>secondary</td>\n",
              "      <td>no</td>\n",
              "      <td>8749</td>\n",
              "      <td>yes</td>\n",
              "      <td>yes</td>\n",
              "      <td>unknown</td>\n",
              "      <td>21</td>\n",
              "      <td>oct</td>\n",
              "      <td>294</td>\n",
              "      <td>1</td>\n",
              "      <td>-1</td>\n",
              "      <td>0</td>\n",
              "      <td>unknown</td>\n",
              "      <td>yes</td>\n",
              "    </tr>\n",
              "  </tbody>\n",
              "</table>\n",
              "</div>\n",
              "      <button class=\"colab-df-convert\" onclick=\"convertToInteractive('df-dd10382c-d47f-4913-8afd-a38ffa42e57b')\"\n",
              "              title=\"Convert this dataframe to an interactive table.\"\n",
              "              style=\"display:none;\">\n",
              "        \n",
              "  <svg xmlns=\"http://www.w3.org/2000/svg\" height=\"24px\"viewBox=\"0 0 24 24\"\n",
              "       width=\"24px\">\n",
              "    <path d=\"M0 0h24v24H0V0z\" fill=\"none\"/>\n",
              "    <path d=\"M18.56 5.44l.94 2.06.94-2.06 2.06-.94-2.06-.94-.94-2.06-.94 2.06-2.06.94zm-11 1L8.5 8.5l.94-2.06 2.06-.94-2.06-.94L8.5 2.5l-.94 2.06-2.06.94zm10 10l.94 2.06.94-2.06 2.06-.94-2.06-.94-.94-2.06-.94 2.06-2.06.94z\"/><path d=\"M17.41 7.96l-1.37-1.37c-.4-.4-.92-.59-1.43-.59-.52 0-1.04.2-1.43.59L10.3 9.45l-7.72 7.72c-.78.78-.78 2.05 0 2.83L4 21.41c.39.39.9.59 1.41.59.51 0 1.02-.2 1.41-.59l7.78-7.78 2.81-2.81c.8-.78.8-2.07 0-2.86zM5.41 20L4 18.59l7.72-7.72 1.47 1.35L5.41 20z\"/>\n",
              "  </svg>\n",
              "      </button>\n",
              "      \n",
              "  <style>\n",
              "    .colab-df-container {\n",
              "      display:flex;\n",
              "      flex-wrap:wrap;\n",
              "      gap: 12px;\n",
              "    }\n",
              "\n",
              "    .colab-df-convert {\n",
              "      background-color: #E8F0FE;\n",
              "      border: none;\n",
              "      border-radius: 50%;\n",
              "      cursor: pointer;\n",
              "      display: none;\n",
              "      fill: #1967D2;\n",
              "      height: 32px;\n",
              "      padding: 0 0 0 0;\n",
              "      width: 32px;\n",
              "    }\n",
              "\n",
              "    .colab-df-convert:hover {\n",
              "      background-color: #E2EBFA;\n",
              "      box-shadow: 0px 1px 2px rgba(60, 64, 67, 0.3), 0px 1px 3px 1px rgba(60, 64, 67, 0.15);\n",
              "      fill: #174EA6;\n",
              "    }\n",
              "\n",
              "    [theme=dark] .colab-df-convert {\n",
              "      background-color: #3B4455;\n",
              "      fill: #D2E3FC;\n",
              "    }\n",
              "\n",
              "    [theme=dark] .colab-df-convert:hover {\n",
              "      background-color: #434B5C;\n",
              "      box-shadow: 0px 1px 3px 1px rgba(0, 0, 0, 0.15);\n",
              "      filter: drop-shadow(0px 1px 2px rgba(0, 0, 0, 0.3));\n",
              "      fill: #FFFFFF;\n",
              "    }\n",
              "  </style>\n",
              "\n",
              "      <script>\n",
              "        const buttonEl =\n",
              "          document.querySelector('#df-dd10382c-d47f-4913-8afd-a38ffa42e57b button.colab-df-convert');\n",
              "        buttonEl.style.display =\n",
              "          google.colab.kernel.accessAllowed ? 'block' : 'none';\n",
              "\n",
              "        async function convertToInteractive(key) {\n",
              "          const element = document.querySelector('#df-dd10382c-d47f-4913-8afd-a38ffa42e57b');\n",
              "          const dataTable =\n",
              "            await google.colab.kernel.invokeFunction('convertToInteractive',\n",
              "                                                     [key], {});\n",
              "          if (!dataTable) return;\n",
              "\n",
              "          const docLinkHtml = 'Like what you see? Visit the ' +\n",
              "            '<a target=\"_blank\" href=https://colab.research.google.com/notebooks/data_table.ipynb>data table notebook</a>'\n",
              "            + ' to learn more about interactive tables.';\n",
              "          element.innerHTML = '';\n",
              "          dataTable['output_type'] = 'display_data';\n",
              "          await google.colab.output.renderOutput(dataTable, element);\n",
              "          const docLink = document.createElement('div');\n",
              "          docLink.innerHTML = docLinkHtml;\n",
              "          element.appendChild(docLink);\n",
              "        }\n",
              "      </script>\n",
              "    </div>\n",
              "  </div>\n",
              "  "
            ]
          },
          "metadata": {},
          "execution_count": 4
        }
      ],
      "source": [
        "df_bank_data = pd.read_csv('Deposit.csv')\n",
        "df_bank_data = df_bank_data.sample(5000)\n",
        "df_bank_data.head(5)"
      ]
    },
    {
      "cell_type": "markdown",
      "source": [
        "**Data Visualization -**\n",
        "\n",
        "Noticing the absence of data or inconsistency in any variable and giving necessary changes."
      ],
      "metadata": {
        "id": "vqcmmVjxQ3qv"
      },
      "id": "vqcmmVjxQ3qv"
    },
    {
      "cell_type": "markdown",
      "source": [
        "**Using info() method to print information about the DataFrame.**"
      ],
      "metadata": {
        "id": "6iPkWguySGiF"
      },
      "id": "6iPkWguySGiF"
    },
    {
      "cell_type": "code",
      "source": [
        "df_bank_data.info()"
      ],
      "metadata": {
        "colab": {
          "base_uri": "https://localhost:8080/"
        },
        "id": "8OtC1IcuSGPL",
        "outputId": "5f4f32e5-220d-4454-b0e7-87e5ac73f4a3"
      },
      "id": "8OtC1IcuSGPL",
      "execution_count": 5,
      "outputs": [
        {
          "output_type": "stream",
          "name": "stdout",
          "text": [
            "<class 'pandas.core.frame.DataFrame'>\n",
            "Int64Index: 5000 entries, 8081 to 7849\n",
            "Data columns (total 17 columns):\n",
            " #   Column     Non-Null Count  Dtype \n",
            "---  ------     --------------  ----- \n",
            " 0   age        5000 non-null   int64 \n",
            " 1   job        5000 non-null   object\n",
            " 2   marital    5000 non-null   object\n",
            " 3   education  5000 non-null   object\n",
            " 4   default    5000 non-null   object\n",
            " 5   balance    5000 non-null   int64 \n",
            " 6   housing    5000 non-null   object\n",
            " 7   loan       5000 non-null   object\n",
            " 8   contact    5000 non-null   object\n",
            " 9   day        5000 non-null   int64 \n",
            " 10  month      5000 non-null   object\n",
            " 11  duration   5000 non-null   int64 \n",
            " 12  campaign   5000 non-null   int64 \n",
            " 13  pdays      5000 non-null   int64 \n",
            " 14  previous   5000 non-null   int64 \n",
            " 15  poutcome   5000 non-null   object\n",
            " 16  deposit    5000 non-null   object\n",
            "dtypes: int64(7), object(10)\n",
            "memory usage: 703.1+ KB\n"
          ]
        }
      ]
    },
    {
      "cell_type": "markdown",
      "source": [
        "**Converting 'age' feature label into integer.**\n",
        "\n",
        "Since age column cannot be a negative value which should also be examined."
      ],
      "metadata": {
        "id": "NDfo5U0G_8IL"
      },
      "id": "NDfo5U0G_8IL"
    },
    {
      "cell_type": "code",
      "execution_count": 6,
      "id": "2fd22160",
      "metadata": {
        "id": "2fd22160"
      },
      "outputs": [],
      "source": [
        "df_bank_data.age = df_bank_data.age.astype(int)"
      ]
    },
    {
      "cell_type": "markdown",
      "source": [
        "**Printing all numeric columns**"
      ],
      "metadata": {
        "id": "isngAsjqSaaU"
      },
      "id": "isngAsjqSaaU"
    },
    {
      "cell_type": "code",
      "execution_count": 7,
      "id": "f09d613f",
      "metadata": {
        "scrolled": true,
        "colab": {
          "base_uri": "https://localhost:8080/",
          "height": 423
        },
        "id": "f09d613f",
        "outputId": "a11da0ab-fe65-43ad-9f7c-449476260e5b"
      },
      "outputs": [
        {
          "output_type": "execute_result",
          "data": {
            "text/plain": [
              "       age  balance  day  duration  campaign  pdays  previous\n",
              "8081    25      895    3       167         1     -1         0\n",
              "5016    54      384   27       200         1     -1         0\n",
              "2311    40    10346   15       491         2    207         1\n",
              "10528   60     4903    9       290         1     -1         0\n",
              "889     32     8749   21       294         1     -1         0\n",
              "...    ...      ...  ...       ...       ...    ...       ...\n",
              "8553    59     1376    9        61         4     -1         0\n",
              "7165    53      592   13       151         1     -1         0\n",
              "875     36     2473   28       965         4     -1         0\n",
              "8216    36     3343   18       307         1     -1         0\n",
              "7849    28      948    9       455         1     -1         0\n",
              "\n",
              "[5000 rows x 7 columns]"
            ],
            "text/html": [
              "\n",
              "  <div id=\"df-6039d701-9a59-4178-9e16-7175b8842471\">\n",
              "    <div class=\"colab-df-container\">\n",
              "      <div>\n",
              "<style scoped>\n",
              "    .dataframe tbody tr th:only-of-type {\n",
              "        vertical-align: middle;\n",
              "    }\n",
              "\n",
              "    .dataframe tbody tr th {\n",
              "        vertical-align: top;\n",
              "    }\n",
              "\n",
              "    .dataframe thead th {\n",
              "        text-align: right;\n",
              "    }\n",
              "</style>\n",
              "<table border=\"1\" class=\"dataframe\">\n",
              "  <thead>\n",
              "    <tr style=\"text-align: right;\">\n",
              "      <th></th>\n",
              "      <th>age</th>\n",
              "      <th>balance</th>\n",
              "      <th>day</th>\n",
              "      <th>duration</th>\n",
              "      <th>campaign</th>\n",
              "      <th>pdays</th>\n",
              "      <th>previous</th>\n",
              "    </tr>\n",
              "  </thead>\n",
              "  <tbody>\n",
              "    <tr>\n",
              "      <th>8081</th>\n",
              "      <td>25</td>\n",
              "      <td>895</td>\n",
              "      <td>3</td>\n",
              "      <td>167</td>\n",
              "      <td>1</td>\n",
              "      <td>-1</td>\n",
              "      <td>0</td>\n",
              "    </tr>\n",
              "    <tr>\n",
              "      <th>5016</th>\n",
              "      <td>54</td>\n",
              "      <td>384</td>\n",
              "      <td>27</td>\n",
              "      <td>200</td>\n",
              "      <td>1</td>\n",
              "      <td>-1</td>\n",
              "      <td>0</td>\n",
              "    </tr>\n",
              "    <tr>\n",
              "      <th>2311</th>\n",
              "      <td>40</td>\n",
              "      <td>10346</td>\n",
              "      <td>15</td>\n",
              "      <td>491</td>\n",
              "      <td>2</td>\n",
              "      <td>207</td>\n",
              "      <td>1</td>\n",
              "    </tr>\n",
              "    <tr>\n",
              "      <th>10528</th>\n",
              "      <td>60</td>\n",
              "      <td>4903</td>\n",
              "      <td>9</td>\n",
              "      <td>290</td>\n",
              "      <td>1</td>\n",
              "      <td>-1</td>\n",
              "      <td>0</td>\n",
              "    </tr>\n",
              "    <tr>\n",
              "      <th>889</th>\n",
              "      <td>32</td>\n",
              "      <td>8749</td>\n",
              "      <td>21</td>\n",
              "      <td>294</td>\n",
              "      <td>1</td>\n",
              "      <td>-1</td>\n",
              "      <td>0</td>\n",
              "    </tr>\n",
              "    <tr>\n",
              "      <th>...</th>\n",
              "      <td>...</td>\n",
              "      <td>...</td>\n",
              "      <td>...</td>\n",
              "      <td>...</td>\n",
              "      <td>...</td>\n",
              "      <td>...</td>\n",
              "      <td>...</td>\n",
              "    </tr>\n",
              "    <tr>\n",
              "      <th>8553</th>\n",
              "      <td>59</td>\n",
              "      <td>1376</td>\n",
              "      <td>9</td>\n",
              "      <td>61</td>\n",
              "      <td>4</td>\n",
              "      <td>-1</td>\n",
              "      <td>0</td>\n",
              "    </tr>\n",
              "    <tr>\n",
              "      <th>7165</th>\n",
              "      <td>53</td>\n",
              "      <td>592</td>\n",
              "      <td>13</td>\n",
              "      <td>151</td>\n",
              "      <td>1</td>\n",
              "      <td>-1</td>\n",
              "      <td>0</td>\n",
              "    </tr>\n",
              "    <tr>\n",
              "      <th>875</th>\n",
              "      <td>36</td>\n",
              "      <td>2473</td>\n",
              "      <td>28</td>\n",
              "      <td>965</td>\n",
              "      <td>4</td>\n",
              "      <td>-1</td>\n",
              "      <td>0</td>\n",
              "    </tr>\n",
              "    <tr>\n",
              "      <th>8216</th>\n",
              "      <td>36</td>\n",
              "      <td>3343</td>\n",
              "      <td>18</td>\n",
              "      <td>307</td>\n",
              "      <td>1</td>\n",
              "      <td>-1</td>\n",
              "      <td>0</td>\n",
              "    </tr>\n",
              "    <tr>\n",
              "      <th>7849</th>\n",
              "      <td>28</td>\n",
              "      <td>948</td>\n",
              "      <td>9</td>\n",
              "      <td>455</td>\n",
              "      <td>1</td>\n",
              "      <td>-1</td>\n",
              "      <td>0</td>\n",
              "    </tr>\n",
              "  </tbody>\n",
              "</table>\n",
              "<p>5000 rows × 7 columns</p>\n",
              "</div>\n",
              "      <button class=\"colab-df-convert\" onclick=\"convertToInteractive('df-6039d701-9a59-4178-9e16-7175b8842471')\"\n",
              "              title=\"Convert this dataframe to an interactive table.\"\n",
              "              style=\"display:none;\">\n",
              "        \n",
              "  <svg xmlns=\"http://www.w3.org/2000/svg\" height=\"24px\"viewBox=\"0 0 24 24\"\n",
              "       width=\"24px\">\n",
              "    <path d=\"M0 0h24v24H0V0z\" fill=\"none\"/>\n",
              "    <path d=\"M18.56 5.44l.94 2.06.94-2.06 2.06-.94-2.06-.94-.94-2.06-.94 2.06-2.06.94zm-11 1L8.5 8.5l.94-2.06 2.06-.94-2.06-.94L8.5 2.5l-.94 2.06-2.06.94zm10 10l.94 2.06.94-2.06 2.06-.94-2.06-.94-.94-2.06-.94 2.06-2.06.94z\"/><path d=\"M17.41 7.96l-1.37-1.37c-.4-.4-.92-.59-1.43-.59-.52 0-1.04.2-1.43.59L10.3 9.45l-7.72 7.72c-.78.78-.78 2.05 0 2.83L4 21.41c.39.39.9.59 1.41.59.51 0 1.02-.2 1.41-.59l7.78-7.78 2.81-2.81c.8-.78.8-2.07 0-2.86zM5.41 20L4 18.59l7.72-7.72 1.47 1.35L5.41 20z\"/>\n",
              "  </svg>\n",
              "      </button>\n",
              "      \n",
              "  <style>\n",
              "    .colab-df-container {\n",
              "      display:flex;\n",
              "      flex-wrap:wrap;\n",
              "      gap: 12px;\n",
              "    }\n",
              "\n",
              "    .colab-df-convert {\n",
              "      background-color: #E8F0FE;\n",
              "      border: none;\n",
              "      border-radius: 50%;\n",
              "      cursor: pointer;\n",
              "      display: none;\n",
              "      fill: #1967D2;\n",
              "      height: 32px;\n",
              "      padding: 0 0 0 0;\n",
              "      width: 32px;\n",
              "    }\n",
              "\n",
              "    .colab-df-convert:hover {\n",
              "      background-color: #E2EBFA;\n",
              "      box-shadow: 0px 1px 2px rgba(60, 64, 67, 0.3), 0px 1px 3px 1px rgba(60, 64, 67, 0.15);\n",
              "      fill: #174EA6;\n",
              "    }\n",
              "\n",
              "    [theme=dark] .colab-df-convert {\n",
              "      background-color: #3B4455;\n",
              "      fill: #D2E3FC;\n",
              "    }\n",
              "\n",
              "    [theme=dark] .colab-df-convert:hover {\n",
              "      background-color: #434B5C;\n",
              "      box-shadow: 0px 1px 3px 1px rgba(0, 0, 0, 0.15);\n",
              "      filter: drop-shadow(0px 1px 2px rgba(0, 0, 0, 0.3));\n",
              "      fill: #FFFFFF;\n",
              "    }\n",
              "  </style>\n",
              "\n",
              "      <script>\n",
              "        const buttonEl =\n",
              "          document.querySelector('#df-6039d701-9a59-4178-9e16-7175b8842471 button.colab-df-convert');\n",
              "        buttonEl.style.display =\n",
              "          google.colab.kernel.accessAllowed ? 'block' : 'none';\n",
              "\n",
              "        async function convertToInteractive(key) {\n",
              "          const element = document.querySelector('#df-6039d701-9a59-4178-9e16-7175b8842471');\n",
              "          const dataTable =\n",
              "            await google.colab.kernel.invokeFunction('convertToInteractive',\n",
              "                                                     [key], {});\n",
              "          if (!dataTable) return;\n",
              "\n",
              "          const docLinkHtml = 'Like what you see? Visit the ' +\n",
              "            '<a target=\"_blank\" href=https://colab.research.google.com/notebooks/data_table.ipynb>data table notebook</a>'\n",
              "            + ' to learn more about interactive tables.';\n",
              "          element.innerHTML = '';\n",
              "          dataTable['output_type'] = 'display_data';\n",
              "          await google.colab.output.renderOutput(dataTable, element);\n",
              "          const docLink = document.createElement('div');\n",
              "          docLink.innerHTML = docLinkHtml;\n",
              "          element.appendChild(docLink);\n",
              "        }\n",
              "      </script>\n",
              "    </div>\n",
              "  </div>\n",
              "  "
            ]
          },
          "metadata": {},
          "execution_count": 7
        }
      ],
      "source": [
        "df_bank_data.select_dtypes(include='number') "
      ]
    },
    {
      "cell_type": "markdown",
      "source": [
        "**Data preprosessing and feature engineering:**"
      ],
      "metadata": {
        "id": "-s5Q0ERsTayd"
      },
      "id": "-s5Q0ERsTayd"
    },
    {
      "cell_type": "markdown",
      "source": [
        "Selecting and Manipulating the raw data into features.\n",
        "\n",
        "Initially, Splitting data in 2 sets which is df train and df test to avoid data leakage. To make sure that the final model works as predicted, test and training data are seperated.\n",
        "\n",
        "Train Data - The model will be trained with the training set and learn from the data and parameters.\n",
        "\n",
        "Test Data - The model will be used to test the final model and evaluate the final algorithm."
      ],
      "metadata": {
        "id": "y9eOHTqgPEvj"
      },
      "id": "y9eOHTqgPEvj"
    },
    {
      "cell_type": "code",
      "execution_count": 8,
      "id": "399856e2",
      "metadata": {
        "colab": {
          "base_uri": "https://localhost:8080/"
        },
        "id": "399856e2",
        "outputId": "6c4a7d14-4658-47ac-cb4f-1a144e1e9b79"
      },
      "outputs": [
        {
          "output_type": "stream",
          "name": "stdout",
          "text": [
            "Size of Training Dataset: (3750, 17)\n",
            "Size of Testing Dataset: (1250, 17)\n"
          ]
        }
      ],
      "source": [
        "from sklearn.model_selection import train_test_split \n",
        "bank_train, bank_test = train_test_split(df_bank_data)\n",
        "\n",
        "print(\"Size of Training Dataset:\" , bank_train.shape)\n",
        "print(\"Size of Testing Dataset:\" , bank_test.shape)"
      ]
    },
    {
      "cell_type": "markdown",
      "source": [
        "**Checking the number of null values present in the training set.**"
      ],
      "metadata": {
        "id": "75MA_-qXWjTQ"
      },
      "id": "75MA_-qXWjTQ"
    },
    {
      "cell_type": "code",
      "source": [
        "bank_train.isnull().sum()"
      ],
      "metadata": {
        "colab": {
          "base_uri": "https://localhost:8080/"
        },
        "id": "lLCZ5c9lTfVn",
        "outputId": "f60e2b76-8a69-405c-d7db-391518c2613c"
      },
      "id": "lLCZ5c9lTfVn",
      "execution_count": 9,
      "outputs": [
        {
          "output_type": "execute_result",
          "data": {
            "text/plain": [
              "age          0\n",
              "job          0\n",
              "marital      0\n",
              "education    0\n",
              "default      0\n",
              "balance      0\n",
              "housing      0\n",
              "loan         0\n",
              "contact      0\n",
              "day          0\n",
              "month        0\n",
              "duration     0\n",
              "campaign     0\n",
              "pdays        0\n",
              "previous     0\n",
              "poutcome     0\n",
              "deposit      0\n",
              "dtype: int64"
            ]
          },
          "metadata": {},
          "execution_count": 9
        }
      ]
    },
    {
      "cell_type": "markdown",
      "source": [
        "**Data Exploration**"
      ],
      "metadata": {
        "id": "KR9ZdVaVah0B"
      },
      "id": "KR9ZdVaVah0B"
    },
    {
      "cell_type": "markdown",
      "source": [
        "Checking if the train set has unique values for each column by using For loop\n",
        "\n",
        "I have observed the explicit values which is 'unknown' in the columns - 'job', 'education', 'contact', 'poutcome'\n",
        "\n",
        "\n",
        "\n"
      ],
      "metadata": {
        "id": "K7ZSWC7vcIBC"
      },
      "id": "K7ZSWC7vcIBC"
    },
    {
      "cell_type": "code",
      "source": [
        "for n in bank_train.columns:\n",
        "    print(n)\n",
        "    print(n, \"(\", len(bank_train[n].unique()) , \"values):\\n\", np.sort(bank_train[n].unique()))"
      ],
      "metadata": {
        "colab": {
          "base_uri": "https://localhost:8080/"
        },
        "id": "wew8z7e4bDuw",
        "outputId": "2e537752-d1b5-458d-b7e3-29ecb10fb5be"
      },
      "id": "wew8z7e4bDuw",
      "execution_count": 10,
      "outputs": [
        {
          "output_type": "stream",
          "name": "stdout",
          "text": [
            "age\n",
            "age ( 71 values):\n",
            " [18 19 20 21 22 23 24 25 26 27 28 29 30 31 32 33 34 35 36 37 38 39 40 41\n",
            " 42 43 44 45 46 47 48 49 50 51 52 53 54 55 56 57 58 59 60 61 62 63 64 65\n",
            " 66 67 68 69 70 71 72 73 74 75 76 77 78 79 80 82 83 84 85 86 87 88 89]\n",
            "job\n",
            "job ( 12 values):\n",
            " ['admin.' 'blue-collar' 'entrepreneur' 'housemaid' 'management' 'retired'\n",
            " 'self-employed' 'services' 'student' 'technician' 'unemployed' 'unknown']\n",
            "marital\n",
            "marital ( 3 values):\n",
            " ['divorced' 'married' 'single']\n",
            "education\n",
            "education ( 4 values):\n",
            " ['primary' 'secondary' 'tertiary' 'unknown']\n",
            "default\n",
            "default ( 2 values):\n",
            " ['no' 'yes']\n",
            "balance\n",
            "balance ( 2048 values):\n",
            " [-6847 -2282 -2049 ... 25290 25947 27696]\n",
            "housing\n",
            "housing ( 2 values):\n",
            " ['no' 'yes']\n",
            "loan\n",
            "loan ( 2 values):\n",
            " ['no' 'yes']\n",
            "contact\n",
            "contact ( 3 values):\n",
            " ['cellular' 'telephone' 'unknown']\n",
            "day\n",
            "day ( 31 values):\n",
            " [ 1  2  3  4  5  6  7  8  9 10 11 12 13 14 15 16 17 18 19 20 21 22 23 24\n",
            " 25 26 27 28 29 30 31]\n",
            "month\n",
            "month ( 12 values):\n",
            " ['apr' 'aug' 'dec' 'feb' 'jan' 'jul' 'jun' 'mar' 'may' 'nov' 'oct' 'sep']\n",
            "duration\n",
            "duration ( 1044 values):\n",
            " [   3    4    5 ... 3094 3253 3881]\n",
            "campaign\n",
            "campaign ( 31 values):\n",
            " [ 1  2  3  4  5  6  7  8  9 10 11 12 13 14 15 16 17 18 19 20 21 22 23 24\n",
            " 25 26 27 29 33 41 63]\n",
            "pdays\n",
            "pdays ( 313 values):\n",
            " [ -1   1   2   5   6   8   9  13  14  15  17  21  28  35  38  40  41  42\n",
            "  43  48  50  53  56  57  58  61  63  66  70  71  74  75  76  77  78  79\n",
            "  80  81  82  83  84  85  86  87  88  89  90  91  92  93  94  95  96  97\n",
            "  98  99 100 101 102 103 104 105 106 107 109 110 113 114 115 119 120 121\n",
            " 123 124 125 126 129 130 131 133 135 136 137 138 139 140 141 144 145 148\n",
            " 149 150 151 152 153 154 155 156 160 161 162 163 164 165 166 167 168 169\n",
            " 170 171 172 173 174 175 176 177 178 179 180 181 182 183 184 185 186 187\n",
            " 188 189 190 191 192 193 194 195 196 197 198 199 200 201 202 203 204 205\n",
            " 207 208 209 211 212 214 216 222 223 224 225 227 229 230 231 238 242 246\n",
            " 251 253 254 258 259 260 261 262 263 264 265 266 267 268 269 270 271 272\n",
            " 273 274 275 276 277 278 279 281 283 284 285 286 287 288 290 291 292 293\n",
            " 294 295 296 297 299 300 304 306 307 308 310 312 314 316 318 321 322 323\n",
            " 324 325 326 327 328 329 330 331 333 334 335 336 337 338 339 340 341 342\n",
            " 343 344 345 346 347 348 349 350 351 352 353 354 355 356 357 358 359 360\n",
            " 361 362 363 364 365 366 367 368 369 370 371 372 374 375 381 385 386 388\n",
            " 389 391 392 394 401 403 407 409 412 415 417 421 426 427 428 430 433 436\n",
            " 449 457 458 459 460 461 472 476 477 518 520 535 553 561 587 594 595 616\n",
            " 626 648 690 728 749 771 778]\n",
            "previous\n",
            "previous ( 25 values):\n",
            " [ 0  1  2  3  4  5  6  7  8  9 10 11 12 13 14 15 16 17 20 28 30 37 40 41\n",
            " 58]\n",
            "poutcome\n",
            "poutcome ( 4 values):\n",
            " ['failure' 'other' 'success' 'unknown']\n",
            "deposit\n",
            "deposit ( 2 values):\n",
            " ['no' 'yes']\n"
          ]
        }
      ]
    },
    {
      "cell_type": "markdown",
      "source": [
        "**Droping the values of Job Occupations and Education that are \"Unknown\"**"
      ],
      "metadata": {
        "id": "-hSSuBJ-cAWN"
      },
      "id": "-hSSuBJ-cAWN"
    },
    {
      "cell_type": "code",
      "source": [
        "df_bank_data = df_bank_data.drop(df_bank_data.loc[df_bank_data[\"job\"] == \"unknown\"].index)\n",
        "df_bank_data = df_bank_data.drop(df_bank_data.loc[df_bank_data[\"education\"] == \"unknown\"].index)"
      ],
      "metadata": {
        "id": "ySqnGwRNcCBT"
      },
      "id": "ySqnGwRNcCBT",
      "execution_count": 11,
      "outputs": []
    },
    {
      "cell_type": "markdown",
      "source": [
        "**For a better classification of these data, the unknown data will be converted into 'NaN' format and will be treated as missing data.**"
      ],
      "metadata": {
        "id": "GAg1h64dVB4c"
      },
      "id": "GAg1h64dVB4c"
    },
    {
      "cell_type": "code",
      "source": [
        "bank_train['contact'] = bank_train['contact'].replace('unknown',np.NaN)\n",
        "bank_train['poutcome'] = bank_train['poutcome'].replace({'unknown':np.NaN, 'other':np.NaN})"
      ],
      "metadata": {
        "id": "UrMWxJQEVBlo"
      },
      "id": "UrMWxJQEVBlo",
      "execution_count": 12,
      "outputs": []
    },
    {
      "cell_type": "markdown",
      "source": [
        "**Counting the number of records for every combination of unique values for every column.**"
      ],
      "metadata": {
        "id": "0WVie6HnfTBL"
      },
      "id": "0WVie6HnfTBL"
    },
    {
      "cell_type": "code",
      "source": [
        "print(bank_train.value_counts()) "
      ],
      "metadata": {
        "colab": {
          "base_uri": "https://localhost:8080/"
        },
        "id": "qSgo5FPbei8S",
        "outputId": "d155bb89-0475-4756-b050-b41a71e51912"
      },
      "id": "qSgo5FPbei8S",
      "execution_count": 13,
      "outputs": [
        {
          "output_type": "stream",
          "name": "stdout",
          "text": [
            "age  job         marital   education  default  balance  housing  loan  contact    day  month  duration  campaign  pdays  previous  poutcome  deposit\n",
            "18   student     single    primary    no       608      no       no    cellular   13   nov    210       1         93     1         success   yes        1\n",
            "46   admin.      married   unknown    no       5511     no       no    cellular   26   jul    414       2         389    1         success   yes        1\n",
            "45   management  married   tertiary   no       4119     yes      yes   telephone  31   aug    473       2         283    1         success   yes        1\n",
            "                           unknown    no       2724     no       no    cellular   28   jun    359       2         182    1         success   yes        1\n",
            "     services    divorced  secondary  no       0        yes      yes   cellular   21   nov    173       1         192    1         failure   no         1\n",
            "                                                                                                                                                       ..\n",
            "35   management  married   tertiary   no       495      no       no    cellular   30   apr    266       1         87     1         failure   yes        1\n",
            "                                               2161     no       no    cellular   9    mar    139       2         181    3         success   yes        1\n",
            "                 single    tertiary   no       62       yes      no    cellular   5    may    214       4         15     3         success   no         1\n",
            "                                               681      no       no    cellular   18   feb    737       1         561    2         success   yes        1\n",
            "82   retired     married   primary    no       8603     no       no    cellular   22   oct    306       3         107    1         success   yes        1\n",
            "Length: 760, dtype: int64\n"
          ]
        }
      ]
    },
    {
      "cell_type": "markdown",
      "source": [
        "**Splitting Data**\n",
        "\n",
        "Splitting the data into 2 part which is training and test set to fit the data and evaluate a learning model. Used train_test_split() function from scikit-learn where 80 percent of the sample data is used for training and 20 percent is used for testing.\n",
        "\n",
        "Splitting the Target Label and Features - By droping rows\n",
        "\n",
        "To monitor accuracy in the validation set and avoid overfitting."
      ],
      "metadata": {
        "id": "pklqC4Pr7vuE"
      },
      "id": "pklqC4Pr7vuE"
    },
    {
      "cell_type": "code",
      "execution_count": 14,
      "id": "d4bed259",
      "metadata": {
        "colab": {
          "base_uri": "https://localhost:8080/"
        },
        "id": "d4bed259",
        "outputId": "a06158a9-5da7-4108-df5e-5ddeb5786e17"
      },
      "outputs": [
        {
          "output_type": "stream",
          "name": "stdout",
          "text": [
            " Training x dataset:  (3750, 16)\n",
            " Training y dataset:  (3750,)\n",
            " Testing x dataset: (1250, 16)\n",
            " Testing y dataset:  (1250,)\n"
          ]
        }
      ],
      "source": [
        "training_x = bank_train.drop([\"deposit\"], axis=1)   \n",
        "training_y = bank_train[\"deposit\"]\n",
        "\n",
        "testing_x = bank_test.drop([\"deposit\"], axis=1)   \n",
        "testing_y = bank_test[\"deposit\"]\n",
        "\n",
        "print(\" Training x dataset: \", training_x.shape)\n",
        "print(\" Training y dataset: \", training_y.shape)\n",
        "print(\" Testing x dataset:\", testing_x.shape)\n",
        "print(\" Testing y dataset: \", testing_y.shape)"
      ]
    },
    {
      "cell_type": "markdown",
      "source": [
        "**Modelling**"
      ],
      "metadata": {
        "id": "evKA91xSsUZY"
      },
      "id": "evKA91xSsUZY"
    },
    {
      "cell_type": "markdown",
      "source": [
        "**Enconding features using OneHotEncoder**"
      ],
      "metadata": {
        "id": "euxIzdRps2vN"
      },
      "id": "euxIzdRps2vN"
    },
    {
      "cell_type": "markdown",
      "source": [
        "In total the data has 10 categorical variables.\n",
        "\n",
        "After analyzing the data, it is noted that the variables 'job', 'marital', 'education' and 'month' have more than two categories.\n",
        "\n",
        "The other variables will be converted into binary format of 0 and 1.\n",
        "\n",
        "First, we encode the target variable. We note that the target column presents just two possible values: 'yes' or 'no'. Since these binary values appears in more columns, we encode all the 'yes' and 'no' in the whole dataframe with 0 and 1."
      ],
      "metadata": {
        "id": "8BNYRjdNOO6b"
      },
      "id": "8BNYRjdNOO6b"
    },
    {
      "cell_type": "code",
      "execution_count": 15,
      "id": "c8790aa3",
      "metadata": {
        "colab": {
          "base_uri": "https://localhost:8080/"
        },
        "id": "c8790aa3",
        "outputId": "c4f48b3f-c50a-4725-bb41-72d9ff874a87"
      },
      "outputs": [
        {
          "output_type": "stream",
          "name": "stdout",
          "text": [
            "Shape of Training x : (3750, 3606)\n",
            "Shape of Testing x : (1250, 3606)\n"
          ]
        }
      ],
      "source": [
        "from sklearn.preprocessing import OneHotEncoder\n",
        "\n",
        "encode = OneHotEncoder(handle_unknown='ignore')\n",
        "encode.fit(training_x)\n",
        "\n",
        "training_x = encode.transform(training_x)\n",
        "\n",
        "testing_x = encode.transform(testing_x)\n",
        "\n",
        "print(\"Shape of Training x :\", training_x.shape)\n",
        "print(\"Shape of Testing x :\", testing_x.shape)"
      ]
    },
    {
      "cell_type": "markdown",
      "source": [
        "As the missing data has been transformed into a new category it is necessary to transform it into 'NaN' format again\n",
        "\n",
        "Replaced the category with NaN values again in the following steps"
      ],
      "metadata": {
        "id": "sTvqUFP2tGIZ"
      },
      "id": "sTvqUFP2tGIZ"
    },
    {
      "cell_type": "code",
      "source": [
        "bank_train['poutcome'] = bank_train['poutcome'].replace(2,np.NaN)\n",
        "bank_train['contact'] = bank_train['contact'].replace(2,np.NaN)"
      ],
      "metadata": {
        "id": "xpCv6MFutiEb"
      },
      "id": "xpCv6MFutiEb",
      "execution_count": 16,
      "outputs": []
    },
    {
      "cell_type": "markdown",
      "source": [
        "**Data** **Normalization**"
      ],
      "metadata": {
        "id": "jJlifehQuZrJ"
      },
      "id": "jJlifehQuZrJ"
    },
    {
      "cell_type": "markdown",
      "source": [
        "**Data scaling**\n",
        "\n",
        "Data scaling is process on training features to reduce the number of test feature. \n",
        "Used a class from the Scikit-learn library."
      ],
      "metadata": {
        "id": "809X9O7GtyIn"
      },
      "id": "809X9O7GtyIn"
    },
    {
      "cell_type": "code",
      "execution_count": 17,
      "id": "653ea509",
      "metadata": {
        "colab": {
          "base_uri": "https://localhost:8080/"
        },
        "id": "653ea509",
        "outputId": "f05722ba-d8c9-4a32-ace2-d7dbb9bb49fa"
      },
      "outputs": [
        {
          "output_type": "stream",
          "name": "stdout",
          "text": [
            "Shape of Training x: (3750, 3606)\n",
            "Shape of Testing x: (1250, 3606)\n"
          ]
        }
      ],
      "source": [
        "scaling = sklearn.preprocessing.StandardScaler(with_std=False, with_mean=False)\n",
        "scaling.fit(training_x)\n",
        "\n",
        "training_x = scaling. transform(training_x)\n",
        "\n",
        "testing_x = scaling. transform(testing_x)\n",
        "print(\"Shape of Training x:\", training_x.shape) \n",
        "print(\"Shape of Testing x:\", testing_x.shape) "
      ]
    },
    {
      "cell_type": "markdown",
      "source": [
        "**Oversampling using SMOTE**\n",
        "\n",
        "Synthetic Minority Oversampling Technique.\n",
        "Using SMOTE to creates a new sample to handle imbalanced classes."
      ],
      "metadata": {
        "id": "_XS6mfPovGeq"
      },
      "id": "_XS6mfPovGeq"
    },
    {
      "cell_type": "code",
      "execution_count": 18,
      "id": "4776803d",
      "metadata": {
        "colab": {
          "base_uri": "https://localhost:8080/"
        },
        "id": "4776803d",
        "outputId": "f410b0a2-a46d-42fe-a4e8-2a69923a51f7"
      },
      "outputs": [
        {
          "output_type": "stream",
          "name": "stdout",
          "text": [
            "Resampled size of Training x: (3962, 3606)\n",
            "Resampled size of Training y: (3962,)\n"
          ]
        }
      ],
      "source": [
        "smote = imblearn.over_sampling.SMOTE(random_state=42)\n",
        "\n",
        "training_x_resampled, training_y_resampled = smote.fit_resample(training_x, training_y)\n",
        "training_y.value_counts()\n",
        "\n",
        "print(\"Resampled size of Training x:\", training_x_resampled.shape)\n",
        "print(\"Resampled size of Training y:\", training_y_resampled.shape)"
      ]
    },
    {
      "cell_type": "markdown",
      "source": [
        "**Reducing the dimensionality** - Using sklearn.decomposition.PCA\n",
        "\n",
        "\n",
        "*   To Reduce number of training and testing features\n",
        "\n"
      ],
      "metadata": {
        "id": "0g8HwC-kvpSU"
      },
      "id": "0g8HwC-kvpSU"
    },
    {
      "cell_type": "code",
      "source": [
        "pca_dim = sklearn.decomposition.PCA(n_components=150)\n",
        "pca_dim.fit(training_x_resampled.toarray())\n",
        "\n",
        "training_x_resampled_pca_dim = pca_dim.transform(training_x_resampled.toarray())\n",
        "\n",
        "testing_x_pca_dim = pca_dim.transform(testing_x.toarray())\n",
        "\n",
        "print(\"Shape of Resampled Training x:\", training_x_resampled_pca_dim.shape)\n",
        "print(\"Shape of Resampled Testing x:\", testing_x_pca_dim.shape)"
      ],
      "metadata": {
        "colab": {
          "base_uri": "https://localhost:8080/"
        },
        "id": "Kyf46m26Kcqb",
        "outputId": "a01be632-bafe-4adf-aeea-82833eb97d38"
      },
      "id": "Kyf46m26Kcqb",
      "execution_count": 19,
      "outputs": [
        {
          "output_type": "stream",
          "name": "stdout",
          "text": [
            "Shape of Resampled Training x: (3962, 150)\n",
            "Shape of Resampled Testing x: (1250, 150)\n"
          ]
        }
      ]
    },
    {
      "cell_type": "markdown",
      "source": [
        "**Model Selection**"
      ],
      "metadata": {
        "id": "gnYpBHRqwVfu"
      },
      "id": "gnYpBHRqwVfu"
    },
    {
      "cell_type": "markdown",
      "source": [
        "Four different classification algorithms are created for classification\n",
        "\n",
        "1. Support Vector Machines\n",
        "2. K-Nearest Neighbors \n",
        "3. Logistic Regression\n",
        "\n"
      ],
      "metadata": {
        "id": "APuzSjyfu_m5"
      },
      "id": "APuzSjyfu_m5"
    },
    {
      "cell_type": "markdown",
      "source": [
        "**Support Vector Machine Model**\n",
        "\n",
        "Kernel, C, gamma and degree hyperparameters are used in the SVM algorithm which will generate the best parameters and best score for the model obtained from GridSearchCV."
      ],
      "metadata": {
        "id": "aYmvhmUEw1DA"
      },
      "id": "aYmvhmUEw1DA"
    },
    {
      "cell_type": "code",
      "source": [
        "from sklearn import svm, datasets \n",
        "from sklearn.svm import SVC \n",
        "\n",
        "param_svc = {'C':[0.1,0.3,1,3,5], 'kernel':('poly','linear', 'rbf'), 'gamma':('scale', 'auto'), 'degree':[1,2,3]}\n",
        "svc = sklearn.svm.SVC()\n",
        "\n",
        "clasify_svc = sklearn.model_selection.GridSearchCV(svc, param_svc, n_jobs=-1, cv=5, scoring=\"accuracy\")\n",
        "clasify_svc.fit(training_x, training_y)\n",
        "\n",
        "print(\"Accuracy through SVM model = {}\".format(clasify_svc.best_score_*100))\n",
        "print(\"Best parameter = {}\".format(clasify_svc.best_params_))"
      ],
      "metadata": {
        "id": "bGdfosIOJ2j8",
        "colab": {
          "base_uri": "https://localhost:8080/"
        },
        "outputId": "4e67f17f-db94-48ee-e96b-7350b60e36a1"
      },
      "id": "bGdfosIOJ2j8",
      "execution_count": 20,
      "outputs": [
        {
          "output_type": "stream",
          "name": "stdout",
          "text": [
            "Accuracy through SVM model = 73.94666666666667\n",
            "Best parameter = {'C': 5, 'degree': 1, 'gamma': 'scale', 'kernel': 'poly'}\n"
          ]
        }
      ]
    },
    {
      "cell_type": "markdown",
      "source": [
        "**k-nearest neighbor model**\n",
        "\n",
        "_neighors and leaf_size hyperparameters are used in the k-nearest neighbor algorithm which will generate the best parameters and best score for the model obtained from GridSearchCV."
      ],
      "metadata": {
        "id": "8uTn0rg4Mmcl"
      },
      "id": "8uTn0rg4Mmcl"
    },
    {
      "cell_type": "code",
      "source": [
        "from sklearn.neighbors import KNeighborsClassifier\n",
        "knn_model = sklearn.neighbors.KNeighborsClassifier(n_neighbors=1)\n",
        "\n",
        "param_knn = {\n",
        "    \"_neighbors\": range(1, 30, 2),\n",
        "    \"leaf_size\": range (1, 50, 5)\n",
        "}\n",
        "\n",
        "from sklearn.model_selection import GridSearchCV\n",
        "clasify_knn = GridSearchCV(estimator = SVC(), param_grid = {'C': [1, 10], 'kernel': ('linear', 'rbf')})\n",
        "clasify_knn.fit(training_x, training_y)\n",
        "\n",
        "print(\"Accuracy through KNN model = {}\".format(clasify_svc.best_score_*100))\n",
        "print(\"Best parameter = {}\".format(clasify_svc.best_params_))"
      ],
      "metadata": {
        "colab": {
          "base_uri": "https://localhost:8080/"
        },
        "id": "1mNMWDUoMoBJ",
        "outputId": "5525468f-fe4d-4659-94fb-04e557e68f3d"
      },
      "id": "1mNMWDUoMoBJ",
      "execution_count": 21,
      "outputs": [
        {
          "output_type": "stream",
          "name": "stdout",
          "text": [
            "Accuracy through KNN model = 73.94666666666667\n",
            "Best parameter = {'C': 5, 'degree': 1, 'gamma': 'scale', 'kernel': 'poly'}\n"
          ]
        }
      ]
    },
    {
      "cell_type": "markdown",
      "source": [
        "**Logistic Regression**\n",
        "\n",
        "C, multi_class and solver hyperparameters are used in the Logistic Regression algorithm which will generate the best parameters and best score for the model obtained from GridSearchCV."
      ],
      "metadata": {
        "id": "4H-SOH_yx7v6"
      },
      "id": "4H-SOH_yx7v6"
    },
    {
      "cell_type": "code",
      "source": [
        "param_Lr = {\n",
        "    'C':[0.1,0.2,0.3,0.4,0.5], 'multi_class':('auto', 'ovr'),'solver':('newton-cg', 'liblinear', 'lbfgs', 'sag', 'newton-cholesky', 'saga')\n",
        "    }\n",
        "Lr = sklearn.linear_model.LogisticRegression(max_iter=50, random_state=0)\n",
        "clasify_Lr = sklearn.model_selection.GridSearchCV(Lr, param_Lr, cv=5, scoring=\"accuracy\", n_jobs=-1)\n",
        "clasify_Lr.fit(training_x_resampled_pca_dim,training_y_resampled)\n",
        "\n",
        "print(\"Accuracy through Logistic model = {}\".format(clasify_Lr.best_score_*100))\n",
        "print(\"Best parameter = {}\".format(clasify_Lr.best_params_))"
      ],
      "metadata": {
        "id": "Wq3ruhVjdd_Z",
        "colab": {
          "base_uri": "https://localhost:8080/"
        },
        "outputId": "951fd112-a852-41ef-91a8-66b761020616"
      },
      "id": "Wq3ruhVjdd_Z",
      "execution_count": 22,
      "outputs": [
        {
          "output_type": "stream",
          "name": "stdout",
          "text": [
            "Accuracy through Logistic model = 70.82218783038455\n",
            "Best parameter = {'C': 0.1, 'multi_class': 'auto', 'solver': 'newton-cg'}\n"
          ]
        }
      ]
    },
    {
      "cell_type": "markdown",
      "source": [
        "After adjusting the parameters of all four models and testing them on the Training and Test Set data, it is found that Logistic Regression had the largest difference in accuracy from train and test, which was the highest overfit among the 3 models.\n",
        "\n",
        "For Support Vector Machines and k-nearest neighbor, the accuracy obtained from train and test is very similar. Therefore, it will be used classification_report in next step check"
      ],
      "metadata": {
        "id": "E-n0ARM_7tc_"
      },
      "id": "E-n0ARM_7tc_"
    },
    {
      "cell_type": "markdown",
      "source": [
        "**Classification Report** - \n",
        "\n",
        "To build a text report showing classification metrics."
      ],
      "metadata": {
        "id": "vupiiY1L_VV8"
      },
      "id": "vupiiY1L_VV8"
    },
    {
      "cell_type": "code",
      "source": [
        "predicting_svc = clasify_svc.predict(testing_x)\n",
        "predicting_knn = clasify_knn.predict(testing_x)\n",
        "\n",
        "from sklearn.metrics import classification_report\n",
        "\n",
        "print('Classification Report generated for Support Vector Machines')\n",
        "print(classification_report(testing_y, predicting_svc))\n",
        "print('Classification Report for k-nearest neighbor')\n",
        "print(classification_report(testing_y, predicting_svc))"
      ],
      "metadata": {
        "id": "TX3-OiQO-v5z",
        "colab": {
          "base_uri": "https://localhost:8080/"
        },
        "outputId": "50fcb253-aa0e-4138-baa0-1d68d83ce8e3"
      },
      "id": "TX3-OiQO-v5z",
      "execution_count": 23,
      "outputs": [
        {
          "output_type": "stream",
          "name": "stdout",
          "text": [
            "Classification Report generated for Support Vector Machines\n",
            "              precision    recall  f1-score   support\n",
            "\n",
            "          no       0.80      0.70      0.75       644\n",
            "         yes       0.72      0.82      0.77       606\n",
            "\n",
            "    accuracy                           0.76      1250\n",
            "   macro avg       0.76      0.76      0.76      1250\n",
            "weighted avg       0.76      0.76      0.76      1250\n",
            "\n",
            "Classification Report for k-nearest neighbor\n",
            "              precision    recall  f1-score   support\n",
            "\n",
            "          no       0.80      0.70      0.75       644\n",
            "         yes       0.72      0.82      0.77       606\n",
            "\n",
            "    accuracy                           0.76      1250\n",
            "   macro avg       0.76      0.76      0.76      1250\n",
            "weighted avg       0.76      0.76      0.76      1250\n",
            "\n"
          ]
        }
      ]
    },
    {
      "cell_type": "markdown",
      "source": [
        "By analysing **Precision** and **Recall** all instance are predicted as no subscription.\n",
        "In this case, the generated report display those Support Vector Machines and k-nearest neighbor has similar precision and recall."
      ],
      "metadata": {
        "id": "09Fg0L6GA1o2"
      },
      "id": "09Fg0L6GA1o2"
    },
    {
      "cell_type": "markdown",
      "source": [
        "**Final Model Evaluation**\n",
        "\n",
        "The best model and hyperparameters I consider is Support vector machine for the data."
      ],
      "metadata": {
        "id": "DqKP7nNNsqrl"
      },
      "id": "DqKP7nNNsqrl"
    },
    {
      "cell_type": "code",
      "source": [
        "y_predected_final = clasify_svc.predict(testing_x)\n",
        "Accuracy = sklearn.metrics.accuracy_score(y_predected_final, testing_y)\n",
        "print(f'Accuracy of final model through SVM using test dataset is: ',Accuracy*100,\"%,\" ,\"\\n\",\"with best parameters = {'C': 3, 'degree': 1, 'gamma': 'scale', 'kernel': 'rbf'}\")\n"
      ],
      "metadata": {
        "id": "m7usFKIRmt_t",
        "colab": {
          "base_uri": "https://localhost:8080/"
        },
        "outputId": "9ead63f8-c974-47ce-ae23-ee133c76b438"
      },
      "id": "m7usFKIRmt_t",
      "execution_count": 24,
      "outputs": [
        {
          "output_type": "stream",
          "name": "stdout",
          "text": [
            "Accuracy of final model through SVM using test dataset is:  75.76 %, \n",
            " with best parameters = {'C': 3, 'degree': 1, 'gamma': 'scale', 'kernel': 'rbf'}\n"
          ]
        }
      ]
    },
    {
      "cell_type": "markdown",
      "source": [
        "**Conclusion**\n",
        "\n",
        "After observing the results of the successfully built models, Support vector machine model is the one that obtained the best result. With this model, bank will now be able to predict a customer's response to its marketing campaign before reaching out to their customers. Using this model, bank will able to allocate more marketing strategies towards the clients who are classified as more likely to accept term deposits subscription. However the model will help to increases conversion rate and sales volume."
      ],
      "metadata": {
        "id": "-jK4aYOvDsO2"
      },
      "id": "-jK4aYOvDsO2"
    },
    {
      "cell_type": "markdown",
      "source": [
        "![Submission Form.jpeg](data:image/jpeg;base64,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)"
      ],
      "metadata": {
        "id": "dqJqd82MLRXe"
      },
      "id": "dqJqd82MLRXe"
    },
    {
      "cell_type": "code",
      "source": [
        "!jupyter nbconvert --to html Bank_Marketing.ipynb"
      ],
      "metadata": {
        "id": "z-8RcFdygTo7",
        "colab": {
          "base_uri": "https://localhost:8080/"
        },
        "outputId": "1f45fef6-70dc-4576-d93d-b33a2565df66"
      },
      "id": "z-8RcFdygTo7",
      "execution_count": 25,
      "outputs": [
        {
          "output_type": "stream",
          "name": "stdout",
          "text": [
            "[NbConvertApp] Converting notebook Bank_Marketing.ipynb to html\n",
            "[NbConvertApp] Writing 756487 bytes to Bank_Marketing.html\n"
          ]
        }
      ]
    },
    {
      "cell_type": "code",
      "source": [],
      "metadata": {
        "id": "PU__DG_LfwOz"
      },
      "id": "PU__DG_LfwOz",
      "execution_count": 25,
      "outputs": []
    }
  ],
  "metadata": {
    "kernelspec": {
      "display_name": "Python 3 (ipykernel)",
      "language": "python",
      "name": "python3"
    },
    "language_info": {
      "codemirror_mode": {
        "name": "ipython",
        "version": 3
      },
      "file_extension": ".py",
      "mimetype": "text/x-python",
      "name": "python",
      "nbconvert_exporter": "python",
      "pygments_lexer": "ipython3",
      "version": "3.9.13"
    },
    "colab": {
      "provenance": []
    }
  },
  "nbformat": 4,
  "nbformat_minor": 5
}